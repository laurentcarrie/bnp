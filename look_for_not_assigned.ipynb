{
 "cells": [
  {
   "cell_type": "code",
   "execution_count": null,
   "id": "87429cd7",
   "metadata": {},
   "outputs": [],
   "source": [
    "import polars as pl\n",
    "import plotly.express as px\n",
    "\n",
    "df0=pl.read_csv(\"data.csv\")\n",
    "df1 = df0.with_columns(\n",
    "   pl.col(\"date\").str.to_datetime(\"%Y-%m-%d\")\n",
    ")\n",
    "df1 = df1.with_columns((pl.col(\"value\")/100).alias(\"value\"))\n",
    "\n"
   ]
  },
  {
   "cell_type": "code",
   "execution_count": null,
   "id": "e7c168e3",
   "metadata": {},
   "outputs": [],
   "source": [
    "df = df1.filter(pl.col(\"poste\")==\"\").sort(pl.col(\"value\"))\n",
    "with pl.Config(tbl_rows=2000):\n",
    "       print(df)\n"
   ]
  },
  {
   "cell_type": "code",
   "execution_count": null,
   "id": "86e58f38",
   "metadata": {},
   "outputs": [],
   "source": [
    "df.select(pl.col(\"value\")).sum()"
   ]
  },
  {
   "cell_type": "code",
   "execution_count": null,
   "id": "8a1bd2ae",
   "metadata": {},
   "outputs": [],
   "source": []
  },
  {
   "cell_type": "code",
   "execution_count": null,
   "id": "bea31041",
   "metadata": {},
   "outputs": [],
   "source": []
  }
 ],
 "metadata": {
  "kernelspec": {
   "display_name": "xxx",
   "language": "python",
   "name": "xxx"
  },
  "language_info": {
   "codemirror_mode": {
    "name": "ipython",
    "version": 3
   },
   "file_extension": ".py",
   "mimetype": "text/x-python",
   "name": "python",
   "nbconvert_exporter": "python",
   "pygments_lexer": "ipython3",
   "version": "3.10.9"
  }
 },
 "nbformat": 4,
 "nbformat_minor": 5
}
