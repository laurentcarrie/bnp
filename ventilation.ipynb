{
 "cells": [
  {
   "cell_type": "code",
   "execution_count": null,
   "id": "497bbd14",
   "metadata": {},
   "outputs": [],
   "source": [
    "import polars as pl"
   ]
  },
  {
   "cell_type": "code",
   "execution_count": null,
   "id": "d33cc2cc",
   "metadata": {},
   "outputs": [],
   "source": [
    "df=pl.read_csv(\"releves/debit.csv\")\n",
    "df = df.with_columns((pl.when(pl.col(\"poste\")!=\"\").then(pl.col(\"poste\")).otherwise(pl.lit(\"?\"))).alias(\"poste\"))\n",
    "df = df.with_columns(\n",
    "   pl.col(\"date\").str.to_datetime(\"%Y-%m-%d\")\n",
    ")\n",
    "df = df.sort(\"releve\",descending=False)\n",
    "# df = df.filter(pl.col(\"releve\")==\"2023-09-13\")\n",
    "df_debit=df\n",
    "\n",
    "def reaffect(df,name1,name2):\n",
    "    df = df.with_columns((pl.when(pl.col(\"nature\").str.contains(name1)).then(pl.lit(name2)).otherwise(pl.col(\"poste\"))).alias(\"poste\"))\n",
    "    return df\n",
    "                         \n",
    "def reaffect_poste(df,name1,name2):\n",
    "    df = df.with_columns((pl.when(pl.col(\"poste\")==name1).then(pl.lit(name2)).otherwise(pl.col(\"poste\"))).alias(\"poste\"))\n",
    "    return df\n",
    "\n"
   ]
  },
  {
   "cell_type": "code",
   "execution_count": null,
   "id": "6cd519fb",
   "metadata": {},
   "outputs": [],
   "source": [
    "import plotly.express as px"
   ]
  },
  {
   "cell_type": "code",
   "execution_count": null,
   "id": "24b4753c",
   "metadata": {},
   "outputs": [],
   "source": [
    "df = df_debit\n",
    "#df=reaffect(df,\"GARENNATRIUM\",\"garenne\")\n",
    "#df=reaffect(df,\"LA PALETTE\",\"peinture\")\n",
    "# df=reaffect_poste(df,\"voiture\",\"xxx\")\n",
    "df=reaffect_poste(df,\"maison\",\"xxx\")\n",
    "df=reaffect_poste(df,\"belgique\",\"xxx\")\n",
    "#df = df.with_columns( (pl.col(\"debit\")/7).alias(\"debit\") )\n",
    "\n",
    "#print(df)\n",
    "\n",
    "fig = px.bar(df, x=\"debit\", y=\"poste\", orientation='h',\n",
    "              color='releve',\n",
    "              hover_data=[\"nature\",\"date\",\"commentaire\"],\n",
    "              height=800,\n",
    "              title='debit')\n",
    "fig.show()\n",
    "\n",
    "\n",
    "\n"
   ]
  },
  {
   "cell_type": "code",
   "execution_count": null,
   "id": "978209d7-b1ac-4073-a972-a97efe783e9b",
   "metadata": {},
   "outputs": [],
   "source": []
  },
  {
   "cell_type": "code",
   "execution_count": null,
   "id": "c7dd5211-d68c-417d-a9ea-6aac6bd1b976",
   "metadata": {},
   "outputs": [],
   "source": []
  }
 ],
 "metadata": {
  "kernelspec": {
   "display_name": "xxx",
   "language": "python",
   "name": "xxx"
  },
  "language_info": {
   "codemirror_mode": {
    "name": "ipython",
    "version": 3
   },
   "file_extension": ".py",
   "mimetype": "text/x-python",
   "name": "python",
   "nbconvert_exporter": "python",
   "pygments_lexer": "ipython3",
   "version": "3.10.9"
  }
 },
 "nbformat": 4,
 "nbformat_minor": 5
}
