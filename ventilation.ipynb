{
 "cells": [
  {
   "cell_type": "code",
   "execution_count": null,
   "id": "497bbd14",
   "metadata": {},
   "outputs": [],
   "source": [
    "import polars as pl"
   ]
  },
  {
   "cell_type": "code",
   "execution_count": null,
   "id": "d33cc2cc",
   "metadata": {},
   "outputs": [],
   "source": [
    "df=pl.read_csv(\"data.csv\")\n",
    "df = df.with_columns((pl.when(pl.col(\"value\")>0).then(pl.col(\"value\")/100).otherwise(0)).alias(\"credit\"))\n",
    "df = df.with_columns((pl.when(pl.col(\"value\")<0).then(-pl.col(\"value\")/100).otherwise(0)).alias(\"debit\"))\n",
    "df = df.with_columns((pl.when(pl.col(\"poste\")!=\"\").then(pl.col(\"poste\")).otherwise(pl.lit(\"?\"))).alias(\"poste\"))\n",
    "df = df.with_columns(\n",
    "   pl.col(\"date\").str.to_datetime(\"%Y-%m-%d\")\n",
    ")\n",
    "#df = df.with_columns(\n",
    "#  pl.col(\"releve\").str.to_datetime(\"%Y-%m-%d\")\n",
    "#.alias(\"releve\")\n",
    "#)\n",
    "df = df.with_columns((pl.when(pl.col(\"poste\")==\"?\").then(False).otherwise(True)).alias(\"set\"))\n",
    "df = df.sort(\"releve\",descending=True)\n",
    "# df = df.filter(pl.col(\"releve\")==\"2023-09-13\")\n",
    "df_raw=df\n"
   ]
  },
  {
   "cell_type": "code",
   "execution_count": null,
   "id": "51e0edc6",
   "metadata": {},
   "outputs": [],
   "source": [
    "df_credit = df.filter(pl.col(\"value\") >0).drop(\"value\").drop(\"debit\")\n",
    "df_debit = df.filter(pl.col(\"value\") < 0).drop(\"value\").drop(\"credit\")\n",
    "df_debit = df_debit.sort(\"releve\",descending=False)\n",
    "print(df_debit)\n",
    "print(df_credit)\n",
    "\n"
   ]
  },
  {
   "cell_type": "code",
   "execution_count": null,
   "id": "6cd519fb",
   "metadata": {},
   "outputs": [],
   "source": [
    "import plotly.express as px"
   ]
  },
  {
   "cell_type": "code",
   "execution_count": null,
   "id": "24b4753c",
   "metadata": {},
   "outputs": [],
   "source": [
    "df2=df_debit\n",
    "#df=df.filter(pl.col(\"postes\") != \"emprunt_immo\")\n",
    "print(df2.schema)\n",
    "#display(df2)\n",
    "fig = px.bar(df2, x=\"debit\", y=\"poste\", orientation='h',\n",
    "              color='releve',\n",
    "              hover_data=[\"nature\",\"date\"],\n",
    "              height=800,\n",
    "              title='debit')\n",
    "fig.show()\n",
    "\n",
    "\n",
    "\n"
   ]
  },
  {
   "cell_type": "code",
   "execution_count": null,
   "id": "85841333",
   "metadata": {},
   "outputs": [],
   "source": [
    "print(df_debit.schema)\n",
    "df=df_debit.group_by(pl.col(\"poste\")).agg(pl.col(\"debit\").sum())\n",
    "#print(df.schema)\n",
    "df=df.sort(pl.col(\"debit\"),descending=Truedef interactive_choose_tadef interactive_choose_ta)\n",
    "with pl.Config(tbl_rows=2000):\n",
    "       print(df)\n"
   ]
  },
  {
   "cell_type": "code",
   "execution_count": null,
   "id": "6ae58aa2",
   "metadata": {},
   "outputs": [],
   "source": []
  }
 ],
 "metadata": {
  "kernelspec": {
   "display_name": "xxx",
   "language": "python",
   "name": "xxx"
  },
  "language_info": {
   "codemirror_mode": {
    "name": "ipython",
    "version": 3
   },
   "file_extension": ".py",
   "mimetype": "text/x-python",
   "name": "python",
   "nbconvert_exporter": "python",
   "pygments_lexer": "ipython3",
   "version": "3.10.9"
  }
 },
 "nbformat": 4,
 "nbformat_minor": 5
}
