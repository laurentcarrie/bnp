{
 "cells": [
  {
   "cell_type": "code",
   "execution_count": null,
   "id": "e89796f5",
   "metadata": {},
   "outputs": [],
   "source": [
    "import polars as pl\n",
    "import plotly.express as px\n",
    "\n",
    "df=pl.read_csv(\"releves/debit.csv\")\n",
    "df = df.with_columns(\n",
    "   pl.col(\"releve\").str.to_datetime(\"%Y-%m-%d\")\n",
    ")\n",
    "df = df.group_by(\"releve\").agg(pl.col(\"debit\").sum())\n",
    "df = df.select(pl.col([\"releve\",\"debit\"]))\n",
    "\n",
    "df_debit=df\n",
    "print(df)\n",
    "\n",
    "\n"
   ]
  },
  {
   "cell_type": "code",
   "execution_count": null,
   "id": "e859671e-96f2-4ba0-a4d0-e8d20731d6f9",
   "metadata": {},
   "outputs": [],
   "source": [
    "df=pl.read_csv(\"releves/credit.csv\")\n",
    "df = df.with_columns(\n",
    "   pl.col(\"releve\").str.to_datetime(\"%Y-%m-%d\")\n",
    ")\n",
    "df = df.with_columns((pl.when(pl.col(\"poste\")==\"salaire\").then(pl.col(\"credit\")).otherwise(0)).alias(\"salaire\"))\n",
    "df = df.with_columns((pl.when(pl.col(\"poste\")==\"savings\").then(pl.col(\"credit\")).otherwise(0)).alias(\"savings\"))\n",
    "df = df.with_columns((pl.col(\"salaire\")+pl.col(\"savings\")).alias(\"salaire+savings\"))\n",
    "df = df.group_by(\"releve\").agg(pl.col(\"salaire\").sum(),pl.col(\"savings\").sum(),pl.col(\"salaire+savings\").sum())\n",
    "df = df.select(pl.col([\"releve\",\"salaire\",\"savings\",\"salaire+savings\"]))\n",
    "print(df)\n",
    "df_credit=df\n"
   ]
  },
  {
   "cell_type": "code",
   "execution_count": null,
   "id": "fc89a301-87f1-4f6f-b873-036ad1a540ce",
   "metadata": {},
   "outputs": [],
   "source": []
  },
  {
   "cell_type": "code",
   "execution_count": null,
   "id": "517beb4c",
   "metadata": {},
   "outputs": [],
   "source": [
    "df = df_debit.join(df_credit,on=\"releve\")\n",
    "df = df.sort(pl.col(\"releve\"),descending=False)\n",
    "df_join=df\n",
    "with pl.Config(tbl_rows=2000):\n",
    "       print(df)\n",
    "\n",
    "# df = \n",
    "\n",
    "# df = df.select(list(map(pl.col,[\"date\",\"releve\",\"salaire\",\"savings\",\"debits\",\"nature\",\"poste\"])))\n",
    "\n",
    "# df = df.group_by(pl.col(\"releve\")).agg(\n",
    "#     pl.col(\"salaire\").sum(),\n",
    "#                                       pl.col(\"savings\").sum(),\n",
    "#                                       pl.col(\"debits\").sum())\n",
    "\n",
    "\n",
    "# df=df.sort(pl.col(\"releve\"))\n"
   ]
  },
  {
   "cell_type": "code",
   "execution_count": null,
   "id": "8b90e66d",
   "metadata": {},
   "outputs": [],
   "source": [
    "df=df_join\n",
    "fig=px.line(df,x=\"releve\",\n",
    "            y=[\n",
    "                \"savings\",\n",
    "                \"salaire\",\n",
    "                # \"salaire+savings\",\n",
    "                \"debit\"\n",
    "            ],\n",
    "            markers=True\n",
    "              )\n",
    "fig.show()\n"
   ]
  },
  {
   "cell_type": "code",
   "execution_count": null,
   "id": "29a3dff9",
   "metadata": {},
   "outputs": [],
   "source": [
    "df=df_join\n",
    "df = df.with_columns( (pl.col(\"salaire+savings\")-pl.col(\"debit\")).alias(\"delta\") )\n",
    "print(df)\n",
    "df.sum()"
   ]
  },
  {
   "cell_type": "code",
   "execution_count": null,
   "id": "15c68c8c-2d76-4a64-b30b-e35186e938b0",
   "metadata": {},
   "outputs": [],
   "source": []
  }
 ],
 "metadata": {
  "kernelspec": {
   "display_name": "xxx",
   "language": "python",
   "name": "xxx"
  },
  "language_info": {
   "codemirror_mode": {
    "name": "ipython",
    "version": 3
   },
   "file_extension": ".py",
   "mimetype": "text/x-python",
   "name": "python",
   "nbconvert_exporter": "python",
   "pygments_lexer": "ipython3",
   "version": "3.10.9"
  }
 },
 "nbformat": 4,
 "nbformat_minor": 5
}
