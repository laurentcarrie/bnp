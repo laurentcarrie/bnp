{
 "cells": [
  {
   "cell_type": "code",
   "execution_count": null,
   "id": "e89796f5",
   "metadata": {},
   "outputs": [],
   "source": [
    "import polars as pl\n",
    "import plotly.express as px\n",
    "\n",
    "df0=pl.read_csv(\"data.csv\")\n",
    "df1=df0\n",
    "df1 = df1.with_columns(\n",
    "   pl.col(\"date\").str.to_datetime(\"%Y-%m-%d\")\n",
    ")\n",
    "df1 = df1.with_columns(\n",
    "   pl.col(\"releve\").str.to_datetime(\"%Y-%m-%d\")\n",
    ")\n",
    "df1\n",
    "\n",
    "\n"
   ]
  },
  {
   "cell_type": "code",
   "execution_count": null,
   "id": "517beb4c",
   "metadata": {},
   "outputs": [],
   "source": [
    "df = df1\n",
    "df = df.with_columns((pl.when(pl.col(\"poste\")==\"salaire\").then(pl.col(\"value\")/100).otherwise(0)).alias(\"salaire\"))\n",
    "df = df.with_columns((pl.when(pl.col(\"poste\")==\"savings\").then(pl.col(\"value\")/100).otherwise(0)).alias(\"savings\"))\n",
    "df = df.with_columns((pl.when(pl.col(\"value\")<0).then(-pl.col(\"value\")/100).otherwise(0)).alias(\"debits\"))\n",
    "df = df.select(list(map(pl.col,[\"date\",\"releve\",\"salaire\",\"savings\",\"debits\",\"nature\",\"poste\"])))\n",
    "\n",
    "df = df.group_by(pl.col(\"releve\")).agg(\n",
    "    pl.col(\"salaire\").sum(),\n",
    "                                      pl.col(\"savings\").sum(),\n",
    "                                      pl.col(\"debits\").sum())\n",
    "\n",
    "\n",
    "df=df.sort(pl.col(\"releve\"))\n"
   ]
  },
  {
   "cell_type": "code",
   "execution_count": null,
   "id": "8b90e66d",
   "metadata": {},
   "outputs": [],
   "source": [
    "fig=px.line(df,x=\"releve\",y=[\"debits\",\"salaire\",\"savings\"],markers=True\n",
    "              )\n",
    "fig.show()\n"
   ]
  },
  {
   "cell_type": "code",
   "execution_count": null,
   "id": "29a3dff9",
   "metadata": {},
   "outputs": [],
   "source": [
    "df"
   ]
  },
  {
   "cell_type": "code",
   "execution_count": null,
   "id": "1c614347",
   "metadata": {},
   "outputs": [],
   "source": []
  },
  {
   "cell_type": "code",
   "execution_count": null,
   "id": "6f393d72-36f9-4abc-9879-41231d17541c",
   "metadata": {},
   "outputs": [],
   "source": []
  }
 ],
 "metadata": {
  "kernelspec": {
   "display_name": "xxx",
   "language": "python",
   "name": "xxx"
  },
  "language_info": {
   "codemirror_mode": {
    "name": "ipython",
    "version": 3
   },
   "file_extension": ".py",
   "mimetype": "text/x-python",
   "name": "python",
   "nbconvert_exporter": "python",
   "pygments_lexer": "ipython3",
   "version": "3.10.9"
  }
 },
 "nbformat": 4,
 "nbformat_minor": 5
}
